{
 "cells": [
  {
   "cell_type": "markdown",
   "metadata": {},
   "source": [
    "# PBL Project 3: Predicting Service Disruptions"
   ]
  },
  {
   "cell_type": "markdown",
   "metadata": {},
   "source": [
    "## Business Understanding\n",
    "Company is interested in developing an advance predictive model for service disruptions"
   ]
  },
  {
   "cell_type": "markdown",
   "metadata": {},
   "source": [
    "## Data Understanding\n",
    "The dataset is in a relational format, split among multiple files. The following provides a description of data in each file\n",
    "\n",
    "* Event Type Data\n",
    "* Log Feature Data\n",
    "* Resource Type Data\n",
    "* Severity Type Data\n",
    "* Training Data\n",
    "* Testing Data"
   ]
  },
  {
   "cell_type": "code",
   "execution_count": 1,
   "metadata": {
    "collapsed": false
   },
   "outputs": [],
   "source": [
    "from patsy import dmatrices\n",
    "import pandas as pd\n",
    "import numpy as np\n",
    "from sklearn.linear_model import LogisticRegression\n",
    "from sklearn.ensemble import RandomForestClassifier, AdaBoostClassifier, GradientBoostingClassifier\n",
    "from sklearn.tree import DecisionTreeClassifier\n",
    "from sklearn.metrics import accuracy_score, mean_squared_error"
   ]
  },
  {
   "cell_type": "markdown",
   "metadata": {},
   "source": [
    "First, we need to read the CSV files and merge them into one data frame"
   ]
  },
  {
   "cell_type": "code",
   "execution_count": 2,
   "metadata": {
    "collapsed": false
   },
   "outputs": [
    {
     "data": {
      "text/html": [
       "<div>\n",
       "<table border=\"1\" class=\"dataframe\">\n",
       "  <thead>\n",
       "    <tr style=\"text-align: right;\">\n",
       "      <th></th>\n",
       "      <th>id</th>\n",
       "      <th>event_type</th>\n",
       "      <th>log_feature</th>\n",
       "      <th>volume</th>\n",
       "      <th>resource_type</th>\n",
       "      <th>severity_type</th>\n",
       "      <th>location</th>\n",
       "      <th>fault_severity</th>\n",
       "    </tr>\n",
       "  </thead>\n",
       "  <tbody>\n",
       "    <tr>\n",
       "      <th>0</th>\n",
       "      <td>8011</td>\n",
       "      <td>event_type 15</td>\n",
       "      <td>feature 68</td>\n",
       "      <td>7</td>\n",
       "      <td>resource_type 8</td>\n",
       "      <td>severity_type 2</td>\n",
       "      <td>location 1</td>\n",
       "      <td>0</td>\n",
       "    </tr>\n",
       "    <tr>\n",
       "      <th>1</th>\n",
       "      <td>2588</td>\n",
       "      <td>event_type 15</td>\n",
       "      <td>feature 82</td>\n",
       "      <td>9</td>\n",
       "      <td>resource_type 8</td>\n",
       "      <td>severity_type 1</td>\n",
       "      <td>location 1</td>\n",
       "      <td>0</td>\n",
       "    </tr>\n",
       "    <tr>\n",
       "      <th>2</th>\n",
       "      <td>2588</td>\n",
       "      <td>event_type 15</td>\n",
       "      <td>feature 201</td>\n",
       "      <td>5</td>\n",
       "      <td>resource_type 8</td>\n",
       "      <td>severity_type 1</td>\n",
       "      <td>location 1</td>\n",
       "      <td>0</td>\n",
       "    </tr>\n",
       "    <tr>\n",
       "      <th>3</th>\n",
       "      <td>2588</td>\n",
       "      <td>event_type 15</td>\n",
       "      <td>feature 80</td>\n",
       "      <td>15</td>\n",
       "      <td>resource_type 8</td>\n",
       "      <td>severity_type 1</td>\n",
       "      <td>location 1</td>\n",
       "      <td>0</td>\n",
       "    </tr>\n",
       "    <tr>\n",
       "      <th>4</th>\n",
       "      <td>2588</td>\n",
       "      <td>event_type 15</td>\n",
       "      <td>feature 203</td>\n",
       "      <td>5</td>\n",
       "      <td>resource_type 8</td>\n",
       "      <td>severity_type 1</td>\n",
       "      <td>location 1</td>\n",
       "      <td>0</td>\n",
       "    </tr>\n",
       "  </tbody>\n",
       "</table>\n",
       "</div>"
      ],
      "text/plain": [
       "     id     event_type  log_feature  volume    resource_type    severity_type  \\\n",
       "0  8011  event_type 15   feature 68       7  resource_type 8  severity_type 2   \n",
       "1  2588  event_type 15   feature 82       9  resource_type 8  severity_type 1   \n",
       "2  2588  event_type 15  feature 201       5  resource_type 8  severity_type 1   \n",
       "3  2588  event_type 15   feature 80      15  resource_type 8  severity_type 1   \n",
       "4  2588  event_type 15  feature 203       5  resource_type 8  severity_type 1   \n",
       "\n",
       "     location  fault_severity  \n",
       "0  location 1               0  \n",
       "1  location 1               0  \n",
       "2  location 1               0  \n",
       "3  location 1               0  \n",
       "4  location 1               0  "
      ]
     },
     "execution_count": 2,
     "metadata": {},
     "output_type": "execute_result"
    }
   ],
   "source": [
    "evetype = pd.read_csv('event_type.csv')\n",
    "logfeat = pd.read_csv('log_feature.csv')\n",
    "restype = pd.read_csv('resource_type.csv')\n",
    "sevtype = pd.read_csv('severity_type.csv')\n",
    "train = pd.read_csv('train.csv')\n",
    "\n",
    "df1 = pd.merge(evetype, logfeat)\n",
    "df2 = pd.merge(restype, sevtype)\n",
    "df3 = pd.merge(df1, df2)\n",
    "\n",
    "df = pd.merge(df3, train)\n",
    "\n",
    "df.head()"
   ]
  },
  {
   "cell_type": "markdown",
   "metadata": {},
   "source": [
    "Let's explore the data set to understand the data type and unique values"
   ]
  },
  {
   "cell_type": "code",
   "execution_count": 3,
   "metadata": {
    "collapsed": false
   },
   "outputs": [
    {
     "name": "stdout",
     "output_type": "stream",
     "text": [
      "<class 'pandas.core.frame.DataFrame'>\n",
      "Int64Index: 61839 entries, 0 to 61838\n",
      "Data columns (total 8 columns):\n",
      "id                61839 non-null int64\n",
      "event_type        61839 non-null object\n",
      "log_feature       61839 non-null object\n",
      "volume            61839 non-null int64\n",
      "resource_type     61839 non-null object\n",
      "severity_type     61839 non-null object\n",
      "location          61839 non-null object\n",
      "fault_severity    61839 non-null int64\n",
      "dtypes: int64(3), object(5)\n",
      "memory usage: 4.2+ MB\n"
     ]
    }
   ],
   "source": [
    "df.info()"
   ]
  },
  {
   "cell_type": "code",
   "execution_count": 4,
   "metadata": {
    "collapsed": false
   },
   "outputs": [
    {
     "name": "stdout",
     "output_type": "stream",
     "text": [
      "unique event_type:  49 unique log_feature:  331 unique resource_type:  10 unique severity_type:  5 unique location:  929 unique fault_severity:  3\n"
     ]
    }
   ],
   "source": [
    "print \"unique event_type: \", df['event_type'].nunique(), \"unique log_feature: \", df['log_feature'].nunique(), \"unique resource_type: \", df['resource_type'].nunique(), \"unique severity_type: \", df['severity_type'].nunique(), \"unique location: \", df['location'].nunique(), \"unique fault_severity: \", df['fault_severity'].nunique()\n"
   ]
  },
  {
   "cell_type": "code",
   "execution_count": 5,
   "metadata": {
    "collapsed": false
   },
   "outputs": [
    {
     "data": {
      "text/html": [
       "<div>\n",
       "<table border=\"1\" class=\"dataframe\">\n",
       "  <thead>\n",
       "    <tr style=\"text-align: right;\">\n",
       "      <th></th>\n",
       "      <th>id</th>\n",
       "      <th>event_type</th>\n",
       "      <th>log_feature</th>\n",
       "      <th>volume</th>\n",
       "      <th>resource_type</th>\n",
       "      <th>severity_type</th>\n",
       "      <th>location</th>\n",
       "      <th>fault_severity</th>\n",
       "    </tr>\n",
       "  </thead>\n",
       "  <tbody>\n",
       "    <tr>\n",
       "      <th>0</th>\n",
       "      <td>8011</td>\n",
       "      <td>15</td>\n",
       "      <td>68</td>\n",
       "      <td>7</td>\n",
       "      <td>8</td>\n",
       "      <td>2</td>\n",
       "      <td>1</td>\n",
       "      <td>0</td>\n",
       "    </tr>\n",
       "    <tr>\n",
       "      <th>1</th>\n",
       "      <td>2588</td>\n",
       "      <td>15</td>\n",
       "      <td>82</td>\n",
       "      <td>9</td>\n",
       "      <td>8</td>\n",
       "      <td>1</td>\n",
       "      <td>1</td>\n",
       "      <td>0</td>\n",
       "    </tr>\n",
       "    <tr>\n",
       "      <th>2</th>\n",
       "      <td>2588</td>\n",
       "      <td>15</td>\n",
       "      <td>201</td>\n",
       "      <td>5</td>\n",
       "      <td>8</td>\n",
       "      <td>1</td>\n",
       "      <td>1</td>\n",
       "      <td>0</td>\n",
       "    </tr>\n",
       "    <tr>\n",
       "      <th>3</th>\n",
       "      <td>2588</td>\n",
       "      <td>15</td>\n",
       "      <td>80</td>\n",
       "      <td>15</td>\n",
       "      <td>8</td>\n",
       "      <td>1</td>\n",
       "      <td>1</td>\n",
       "      <td>0</td>\n",
       "    </tr>\n",
       "    <tr>\n",
       "      <th>4</th>\n",
       "      <td>2588</td>\n",
       "      <td>15</td>\n",
       "      <td>203</td>\n",
       "      <td>5</td>\n",
       "      <td>8</td>\n",
       "      <td>1</td>\n",
       "      <td>1</td>\n",
       "      <td>0</td>\n",
       "    </tr>\n",
       "  </tbody>\n",
       "</table>\n",
       "</div>"
      ],
      "text/plain": [
       "     id event_type log_feature  volume resource_type severity_type location  \\\n",
       "0  8011         15          68       7             8             2        1   \n",
       "1  2588         15          82       9             8             1        1   \n",
       "2  2588         15         201       5             8             1        1   \n",
       "3  2588         15          80      15             8             1        1   \n",
       "4  2588         15         203       5             8             1        1   \n",
       "\n",
       "   fault_severity  \n",
       "0               0  \n",
       "1               0  \n",
       "2               0  \n",
       "3               0  \n",
       "4               0  "
      ]
     },
     "execution_count": 5,
     "metadata": {},
     "output_type": "execute_result"
    }
   ],
   "source": [
    "# Clean the data by removing unnecessary text\n",
    "df['event_type'] = df['event_type'].map(lambda x: x.lstrip('event_type '))\n",
    "df['log_feature'] = df['log_feature'].map(lambda x: x.lstrip('feature '))\n",
    "df['resource_type'] = df['resource_type'].map(lambda x: x.lstrip('resource_type '))\n",
    "df['severity_type'] = df['severity_type'].map(lambda x: x.lstrip('severity_type '))\n",
    "df['location'] = df['location'].map(lambda x: x.lstrip('location '))\n",
    "\n",
    "df.head()"
   ]
  },
  {
   "cell_type": "code",
   "execution_count": 6,
   "metadata": {
    "collapsed": false
   },
   "outputs": [
    {
     "data": {
      "text/html": [
       "<div>\n",
       "<table border=\"1\" class=\"dataframe\">\n",
       "  <thead>\n",
       "    <tr style=\"text-align: right;\">\n",
       "      <th></th>\n",
       "      <th>Intercept</th>\n",
       "      <th>C(event_type)[T.10]</th>\n",
       "      <th>C(event_type)[T.11]</th>\n",
       "      <th>C(event_type)[T.12]</th>\n",
       "      <th>C(event_type)[T.13]</th>\n",
       "      <th>C(event_type)[T.14]</th>\n",
       "      <th>C(event_type)[T.15]</th>\n",
       "      <th>C(event_type)[T.18]</th>\n",
       "      <th>C(event_type)[T.19]</th>\n",
       "      <th>C(event_type)[T.2]</th>\n",
       "      <th>...</th>\n",
       "      <th>C(location)[T.989]</th>\n",
       "      <th>C(location)[T.99]</th>\n",
       "      <th>C(location)[T.990]</th>\n",
       "      <th>C(location)[T.991]</th>\n",
       "      <th>C(location)[T.994]</th>\n",
       "      <th>C(location)[T.995]</th>\n",
       "      <th>C(location)[T.996]</th>\n",
       "      <th>C(location)[T.998]</th>\n",
       "      <th>C(location)[T.999]</th>\n",
       "      <th>volume</th>\n",
       "    </tr>\n",
       "  </thead>\n",
       "  <tbody>\n",
       "    <tr>\n",
       "      <th>0</th>\n",
       "      <td>1.0</td>\n",
       "      <td>0.0</td>\n",
       "      <td>0.0</td>\n",
       "      <td>0.0</td>\n",
       "      <td>0.0</td>\n",
       "      <td>0.0</td>\n",
       "      <td>1.0</td>\n",
       "      <td>0.0</td>\n",
       "      <td>0.0</td>\n",
       "      <td>0.0</td>\n",
       "      <td>...</td>\n",
       "      <td>0.0</td>\n",
       "      <td>0.0</td>\n",
       "      <td>0.0</td>\n",
       "      <td>0.0</td>\n",
       "      <td>0.0</td>\n",
       "      <td>0.0</td>\n",
       "      <td>0.0</td>\n",
       "      <td>0.0</td>\n",
       "      <td>0.0</td>\n",
       "      <td>7.0</td>\n",
       "    </tr>\n",
       "    <tr>\n",
       "      <th>1</th>\n",
       "      <td>1.0</td>\n",
       "      <td>0.0</td>\n",
       "      <td>0.0</td>\n",
       "      <td>0.0</td>\n",
       "      <td>0.0</td>\n",
       "      <td>0.0</td>\n",
       "      <td>1.0</td>\n",
       "      <td>0.0</td>\n",
       "      <td>0.0</td>\n",
       "      <td>0.0</td>\n",
       "      <td>...</td>\n",
       "      <td>0.0</td>\n",
       "      <td>0.0</td>\n",
       "      <td>0.0</td>\n",
       "      <td>0.0</td>\n",
       "      <td>0.0</td>\n",
       "      <td>0.0</td>\n",
       "      <td>0.0</td>\n",
       "      <td>0.0</td>\n",
       "      <td>0.0</td>\n",
       "      <td>9.0</td>\n",
       "    </tr>\n",
       "    <tr>\n",
       "      <th>2</th>\n",
       "      <td>1.0</td>\n",
       "      <td>0.0</td>\n",
       "      <td>0.0</td>\n",
       "      <td>0.0</td>\n",
       "      <td>0.0</td>\n",
       "      <td>0.0</td>\n",
       "      <td>1.0</td>\n",
       "      <td>0.0</td>\n",
       "      <td>0.0</td>\n",
       "      <td>0.0</td>\n",
       "      <td>...</td>\n",
       "      <td>0.0</td>\n",
       "      <td>0.0</td>\n",
       "      <td>0.0</td>\n",
       "      <td>0.0</td>\n",
       "      <td>0.0</td>\n",
       "      <td>0.0</td>\n",
       "      <td>0.0</td>\n",
       "      <td>0.0</td>\n",
       "      <td>0.0</td>\n",
       "      <td>5.0</td>\n",
       "    </tr>\n",
       "    <tr>\n",
       "      <th>3</th>\n",
       "      <td>1.0</td>\n",
       "      <td>0.0</td>\n",
       "      <td>0.0</td>\n",
       "      <td>0.0</td>\n",
       "      <td>0.0</td>\n",
       "      <td>0.0</td>\n",
       "      <td>1.0</td>\n",
       "      <td>0.0</td>\n",
       "      <td>0.0</td>\n",
       "      <td>0.0</td>\n",
       "      <td>...</td>\n",
       "      <td>0.0</td>\n",
       "      <td>0.0</td>\n",
       "      <td>0.0</td>\n",
       "      <td>0.0</td>\n",
       "      <td>0.0</td>\n",
       "      <td>0.0</td>\n",
       "      <td>0.0</td>\n",
       "      <td>0.0</td>\n",
       "      <td>0.0</td>\n",
       "      <td>15.0</td>\n",
       "    </tr>\n",
       "    <tr>\n",
       "      <th>4</th>\n",
       "      <td>1.0</td>\n",
       "      <td>0.0</td>\n",
       "      <td>0.0</td>\n",
       "      <td>0.0</td>\n",
       "      <td>0.0</td>\n",
       "      <td>0.0</td>\n",
       "      <td>1.0</td>\n",
       "      <td>0.0</td>\n",
       "      <td>0.0</td>\n",
       "      <td>0.0</td>\n",
       "      <td>...</td>\n",
       "      <td>0.0</td>\n",
       "      <td>0.0</td>\n",
       "      <td>0.0</td>\n",
       "      <td>0.0</td>\n",
       "      <td>0.0</td>\n",
       "      <td>0.0</td>\n",
       "      <td>0.0</td>\n",
       "      <td>0.0</td>\n",
       "      <td>0.0</td>\n",
       "      <td>5.0</td>\n",
       "    </tr>\n",
       "  </tbody>\n",
       "</table>\n",
       "<p>5 rows × 1321 columns</p>\n",
       "</div>"
      ],
      "text/plain": [
       "   Intercept  C(event_type)[T.10]  C(event_type)[T.11]  C(event_type)[T.12]  \\\n",
       "0        1.0                  0.0                  0.0                  0.0   \n",
       "1        1.0                  0.0                  0.0                  0.0   \n",
       "2        1.0                  0.0                  0.0                  0.0   \n",
       "3        1.0                  0.0                  0.0                  0.0   \n",
       "4        1.0                  0.0                  0.0                  0.0   \n",
       "\n",
       "   C(event_type)[T.13]  C(event_type)[T.14]  C(event_type)[T.15]  \\\n",
       "0                  0.0                  0.0                  1.0   \n",
       "1                  0.0                  0.0                  1.0   \n",
       "2                  0.0                  0.0                  1.0   \n",
       "3                  0.0                  0.0                  1.0   \n",
       "4                  0.0                  0.0                  1.0   \n",
       "\n",
       "   C(event_type)[T.18]  C(event_type)[T.19]  C(event_type)[T.2]   ...    \\\n",
       "0                  0.0                  0.0                 0.0   ...     \n",
       "1                  0.0                  0.0                 0.0   ...     \n",
       "2                  0.0                  0.0                 0.0   ...     \n",
       "3                  0.0                  0.0                 0.0   ...     \n",
       "4                  0.0                  0.0                 0.0   ...     \n",
       "\n",
       "   C(location)[T.989]  C(location)[T.99]  C(location)[T.990]  \\\n",
       "0                 0.0                0.0                 0.0   \n",
       "1                 0.0                0.0                 0.0   \n",
       "2                 0.0                0.0                 0.0   \n",
       "3                 0.0                0.0                 0.0   \n",
       "4                 0.0                0.0                 0.0   \n",
       "\n",
       "   C(location)[T.991]  C(location)[T.994]  C(location)[T.995]  \\\n",
       "0                 0.0                 0.0                 0.0   \n",
       "1                 0.0                 0.0                 0.0   \n",
       "2                 0.0                 0.0                 0.0   \n",
       "3                 0.0                 0.0                 0.0   \n",
       "4                 0.0                 0.0                 0.0   \n",
       "\n",
       "   C(location)[T.996]  C(location)[T.998]  C(location)[T.999]  volume  \n",
       "0                 0.0                 0.0                 0.0     7.0  \n",
       "1                 0.0                 0.0                 0.0     9.0  \n",
       "2                 0.0                 0.0                 0.0     5.0  \n",
       "3                 0.0                 0.0                 0.0    15.0  \n",
       "4                 0.0                 0.0                 0.0     5.0  \n",
       "\n",
       "[5 rows x 1321 columns]"
      ]
     },
     "execution_count": 6,
     "metadata": {},
     "output_type": "execute_result"
    }
   ],
   "source": [
    "# Create the dummy variables using dmatrices\n",
    "y, X = dmatrices('fault_severity ~ C(event_type) + C(log_feature) + C(resource_type) + C(severity_type) + C(location) + volume', df, return_type = 'dataframe')\n",
    "X.head()"
   ]
  },
  {
   "cell_type": "code",
   "execution_count": 7,
   "metadata": {
    "collapsed": false
   },
   "outputs": [
    {
     "data": {
      "text/html": [
       "<div>\n",
       "<table border=\"1\" class=\"dataframe\">\n",
       "  <thead>\n",
       "    <tr style=\"text-align: right;\">\n",
       "      <th></th>\n",
       "      <th>fault_severity</th>\n",
       "    </tr>\n",
       "  </thead>\n",
       "  <tbody>\n",
       "    <tr>\n",
       "      <th>0</th>\n",
       "      <td>0.0</td>\n",
       "    </tr>\n",
       "    <tr>\n",
       "      <th>1</th>\n",
       "      <td>0.0</td>\n",
       "    </tr>\n",
       "    <tr>\n",
       "      <th>2</th>\n",
       "      <td>0.0</td>\n",
       "    </tr>\n",
       "    <tr>\n",
       "      <th>3</th>\n",
       "      <td>0.0</td>\n",
       "    </tr>\n",
       "    <tr>\n",
       "      <th>4</th>\n",
       "      <td>0.0</td>\n",
       "    </tr>\n",
       "  </tbody>\n",
       "</table>\n",
       "</div>"
      ],
      "text/plain": [
       "   fault_severity\n",
       "0             0.0\n",
       "1             0.0\n",
       "2             0.0\n",
       "3             0.0\n",
       "4             0.0"
      ]
     },
     "execution_count": 7,
     "metadata": {},
     "output_type": "execute_result"
    }
   ],
   "source": [
    "y.head()"
   ]
  },
  {
   "cell_type": "markdown",
   "metadata": {},
   "source": [
    "## Modeling"
   ]
  },
  {
   "cell_type": "code",
   "execution_count": 8,
   "metadata": {
    "collapsed": true
   },
   "outputs": [],
   "source": [
    "# Split the data into 70% Training Data and 30% Testing Data with seed(0)\n",
    "from sklearn.cross_validation import train_test_split\n",
    "X_train, X_test, y_train, y_test = train_test_split(X, y, train_size = 0.7, random_state = 0)"
   ]
  },
  {
   "cell_type": "code",
   "execution_count": 9,
   "metadata": {
    "collapsed": false
   },
   "outputs": [
    {
     "name": "stderr",
     "output_type": "stream",
     "text": [
      "C:\\Users\\Dennis\\Anaconda2\\lib\\site-packages\\sklearn\\utils\\validation.py:515: DataConversionWarning: A column-vector y was passed when a 1d array was expected. Please change the shape of y to (n_samples, ), for example using ravel().\n",
      "  y = column_or_1d(y, warn=True)\n"
     ]
    },
    {
     "name": "stdout",
     "output_type": "stream",
     "text": [
      "0.771021992238\n"
     ]
    }
   ],
   "source": [
    "# Logistic Regression\n",
    "lr = LogisticRegression(fit_intercept = False, C = 1e9)\n",
    "logmodel = lr.fit(X_train, y_train)\n",
    "\n",
    "lr.coef_\n",
    "\n",
    "y_predlog = logmodel.predict(X_test)\n",
    "y_predproba = logmodel.predict_proba(X_test)\n",
    "\n",
    "acclog = accuracy_score(y_predlog, y_test)\n",
    "\n",
    "print acclog"
   ]
  },
  {
   "cell_type": "code",
   "execution_count": 10,
   "metadata": {
    "collapsed": true
   },
   "outputs": [],
   "source": [
    "# Drop Intercept column to fit different models\n",
    "X = X.drop(['Intercept'], axis = 1)"
   ]
  },
  {
   "cell_type": "code",
   "execution_count": 11,
   "metadata": {
    "collapsed": true
   },
   "outputs": [],
   "source": [
    "# Split the data into 70% Training Data and 30% Testing Data with seed(0)\n",
    "from sklearn.cross_validation import train_test_split\n",
    "X_train, X_test, y_train, y_test = train_test_split(X, y, train_size = 0.7, random_state = 0)"
   ]
  },
  {
   "cell_type": "code",
   "execution_count": 12,
   "metadata": {
    "collapsed": false
   },
   "outputs": [
    {
     "name": "stderr",
     "output_type": "stream",
     "text": [
      "C:\\Users\\Dennis\\Anaconda2\\lib\\site-packages\\sklearn\\utils\\validation.py:515: DataConversionWarning: A column-vector y was passed when a 1d array was expected. Please change the shape of y to (n_samples, ), for example using ravel().\n",
      "  y = column_or_1d(y, warn=True)\n"
     ]
    },
    {
     "name": "stdout",
     "output_type": "stream",
     "text": [
      "0.75706123329\n"
     ]
    }
   ],
   "source": [
    "# AdaBoosted Decision Trees\n",
    "adt = AdaBoostClassifier(DecisionTreeClassifier(max_depth=2), n_estimators=600, learning_rate=0.1)\n",
    "adtmodel = adt.fit(X_train, y_train)\n",
    "\n",
    "y_predadt = adtmodel.predict(X_test)\n",
    "\n",
    "accadt = accuracy_score(y_predadt, y_test)\n",
    "\n",
    "print accadt"
   ]
  },
  {
   "cell_type": "code",
   "execution_count": 13,
   "metadata": {
    "collapsed": false
   },
   "outputs": [
    {
     "name": "stderr",
     "output_type": "stream",
     "text": [
      "C:\\Users\\Dennis\\Anaconda2\\lib\\site-packages\\ipykernel\\__main__.py:3: DataConversionWarning: A column-vector y was passed when a 1d array was expected. Please change the shape of y to (n_samples,), for example using ravel().\n",
      "  app.launch_new_instance()\n"
     ]
    },
    {
     "name": "stdout",
     "output_type": "stream",
     "text": [
      "0.811071582579\n"
     ]
    }
   ],
   "source": [
    "# Random Forest\n",
    "rf = RandomForestClassifier(n_estimators= 25, max_depth= None, max_features = 0.4, random_state = 42)\n",
    "rfmodel = rf.fit(X_train, y_train)\n",
    "\n",
    "y_predrf = rfmodel.predict(X_test)\n",
    "\n",
    "accrf = accuracy_score(y_predrf, y_test)\n",
    "\n",
    "print accrf"
   ]
  },
  {
   "cell_type": "code",
   "execution_count": 14,
   "metadata": {
    "collapsed": false
   },
   "outputs": [
    {
     "name": "stderr",
     "output_type": "stream",
     "text": [
      "C:\\Users\\Dennis\\Anaconda2\\lib\\site-packages\\sklearn\\utils\\validation.py:515: DataConversionWarning: A column-vector y was passed when a 1d array was expected. Please change the shape of y to (n_samples, ), for example using ravel().\n",
      "  y = column_or_1d(y, warn=True)\n"
     ]
    },
    {
     "name": "stdout",
     "output_type": "stream",
     "text": [
      "0.721108236309\n"
     ]
    }
   ],
   "source": [
    "# Gradient Boosting\n",
    "params = {'n_estimators': 600, 'max_depth': 1,\n",
    "          'learning_rate': 0.1, 'min_samples_leaf': 1, 'random_state': 3}\n",
    "gbc = GradientBoostingClassifier(**params)\n",
    "gbcmodel = gbc.fit(X_train, y_train)\n",
    "\n",
    "y_predgbc = gbcmodel.predict(X_test)\n",
    "\n",
    "accgbc = accuracy_score(y_predgbc, y_test)\n",
    "\n",
    "print accgbc"
   ]
  },
  {
   "cell_type": "markdown",
   "metadata": {},
   "source": [
    "In the end, Random Forest resulted in having the highest accuracy score of the algorithms tested with an accuracy score of 81.1%. Although Logistic Regression had the second highest accuracy of 77%, it was the quickest to train and predict, making it less computationally expensive compared to the ensemble methods. "
   ]
  }
 ],
 "metadata": {
  "anaconda-cloud": {},
  "kernelspec": {
   "display_name": "Python 2",
   "language": "python",
   "name": "python2"
  },
  "language_info": {
   "codemirror_mode": {
    "name": "ipython",
    "version": 2
   },
   "file_extension": ".py",
   "mimetype": "text/x-python",
   "name": "python",
   "nbconvert_exporter": "python",
   "pygments_lexer": "ipython2",
   "version": "2.7.12"
  }
 },
 "nbformat": 4,
 "nbformat_minor": 0
}
