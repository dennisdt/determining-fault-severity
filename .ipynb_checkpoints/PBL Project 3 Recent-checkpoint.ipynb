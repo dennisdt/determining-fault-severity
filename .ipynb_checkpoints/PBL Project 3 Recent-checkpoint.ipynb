{
 "cells": [
  {
   "cell_type": "markdown",
   "metadata": {},
   "source": [
    "# PBL Project 3: Predicting Service Disruptions"
   ]
  },
  {
   "cell_type": "markdown",
   "metadata": {},
   "source": [
    "## Business Understanding\n",
    "Company is interested in developing an advance predictive model for service disruptions"
   ]
  },
  {
   "cell_type": "markdown",
   "metadata": {},
   "source": [
    "## Data Understanding\n",
    "The dataset is in a relational format, split among multiple files. The following provides a description of data in each file\n",
    "\n",
    "* Event Type Data\n",
    "* Log Feature Data\n",
    "* Resource Type Data\n",
    "* Severity Type Data\n",
    "* Training Data\n",
    "* Testing Data"
   ]
  },
  {
   "cell_type": "code",
   "execution_count": 1,
   "metadata": {
    "collapsed": false
   },
   "outputs": [],
   "source": [
    "from patsy import dmatrices\n",
    "import pandas as pd\n",
    "import numpy as np\n",
    "from sklearn.linear_model import LogisticRegression\n",
    "from sklearn.ensemble import RandomForestClassifier, AdaBoostClassifier, GradientBoostingClassifier\n",
    "from sklearn.tree import DecisionTreeClassifier\n",
    "from sklearn.naive_bayes import GaussianNB\n",
    "from sklearn.metrics import accuracy_score, mean_squared_error"
   ]
  },
  {
   "cell_type": "code",
   "execution_count": 2,
   "metadata": {
    "collapsed": false
   },
   "outputs": [
    {
     "data": {
      "text/html": [
       "<div>\n",
       "<table border=\"1\" class=\"dataframe\">\n",
       "  <thead>\n",
       "    <tr style=\"text-align: right;\">\n",
       "      <th></th>\n",
       "      <th>id</th>\n",
       "      <th>event_type</th>\n",
       "      <th>log_feature</th>\n",
       "      <th>volume</th>\n",
       "      <th>resource_type</th>\n",
       "      <th>severity_type</th>\n",
       "      <th>location</th>\n",
       "      <th>fault_severity</th>\n",
       "    </tr>\n",
       "  </thead>\n",
       "  <tbody>\n",
       "    <tr>\n",
       "      <th>0</th>\n",
       "      <td>8011</td>\n",
       "      <td>event_type 15</td>\n",
       "      <td>feature 68</td>\n",
       "      <td>7</td>\n",
       "      <td>resource_type 8</td>\n",
       "      <td>severity_type 2</td>\n",
       "      <td>location 1</td>\n",
       "      <td>0</td>\n",
       "    </tr>\n",
       "    <tr>\n",
       "      <th>1</th>\n",
       "      <td>2588</td>\n",
       "      <td>event_type 15</td>\n",
       "      <td>feature 82</td>\n",
       "      <td>9</td>\n",
       "      <td>resource_type 8</td>\n",
       "      <td>severity_type 1</td>\n",
       "      <td>location 1</td>\n",
       "      <td>0</td>\n",
       "    </tr>\n",
       "    <tr>\n",
       "      <th>2</th>\n",
       "      <td>2588</td>\n",
       "      <td>event_type 15</td>\n",
       "      <td>feature 201</td>\n",
       "      <td>5</td>\n",
       "      <td>resource_type 8</td>\n",
       "      <td>severity_type 1</td>\n",
       "      <td>location 1</td>\n",
       "      <td>0</td>\n",
       "    </tr>\n",
       "    <tr>\n",
       "      <th>3</th>\n",
       "      <td>2588</td>\n",
       "      <td>event_type 15</td>\n",
       "      <td>feature 80</td>\n",
       "      <td>15</td>\n",
       "      <td>resource_type 8</td>\n",
       "      <td>severity_type 1</td>\n",
       "      <td>location 1</td>\n",
       "      <td>0</td>\n",
       "    </tr>\n",
       "    <tr>\n",
       "      <th>4</th>\n",
       "      <td>2588</td>\n",
       "      <td>event_type 15</td>\n",
       "      <td>feature 203</td>\n",
       "      <td>5</td>\n",
       "      <td>resource_type 8</td>\n",
       "      <td>severity_type 1</td>\n",
       "      <td>location 1</td>\n",
       "      <td>0</td>\n",
       "    </tr>\n",
       "  </tbody>\n",
       "</table>\n",
       "</div>"
      ],
      "text/plain": [
       "     id     event_type  log_feature  volume    resource_type    severity_type  \\\n",
       "0  8011  event_type 15   feature 68       7  resource_type 8  severity_type 2   \n",
       "1  2588  event_type 15   feature 82       9  resource_type 8  severity_type 1   \n",
       "2  2588  event_type 15  feature 201       5  resource_type 8  severity_type 1   \n",
       "3  2588  event_type 15   feature 80      15  resource_type 8  severity_type 1   \n",
       "4  2588  event_type 15  feature 203       5  resource_type 8  severity_type 1   \n",
       "\n",
       "     location  fault_severity  \n",
       "0  location 1               0  \n",
       "1  location 1               0  \n",
       "2  location 1               0  \n",
       "3  location 1               0  \n",
       "4  location 1               0  "
      ]
     },
     "execution_count": 2,
     "metadata": {},
     "output_type": "execute_result"
    }
   ],
   "source": [
    "evetype = pd.read_csv('event_type.csv')\n",
    "logfeat = pd.read_csv('log_feature.csv')\n",
    "restype = pd.read_csv('resource_type.csv')\n",
    "sevtype = pd.read_csv('severity_type.csv')\n",
    "train = pd.read_csv('train.csv')\n",
    "\n",
    "df1 = pd.merge(evetype, logfeat)\n",
    "df2 = pd.merge(restype, sevtype)\n",
    "df3 = pd.merge(df1, df2)\n",
    "\n",
    "df = pd.merge(df3, train)\n",
    "\n",
    "df.head()"
   ]
  },
  {
   "cell_type": "code",
   "execution_count": 3,
   "metadata": {
    "collapsed": false
   },
   "outputs": [
    {
     "name": "stdout",
     "output_type": "stream",
     "text": [
      "<class 'pandas.core.frame.DataFrame'>\n",
      "Int64Index: 61839 entries, 0 to 61838\n",
      "Data columns (total 8 columns):\n",
      "id                61839 non-null int64\n",
      "event_type        61839 non-null object\n",
      "log_feature       61839 non-null object\n",
      "volume            61839 non-null int64\n",
      "resource_type     61839 non-null object\n",
      "severity_type     61839 non-null object\n",
      "location          61839 non-null object\n",
      "fault_severity    61839 non-null int64\n",
      "dtypes: int64(3), object(5)\n",
      "memory usage: 4.2+ MB\n"
     ]
    }
   ],
   "source": [
    "df.info()"
   ]
  },
  {
   "cell_type": "code",
   "execution_count": 4,
   "metadata": {
    "collapsed": false
   },
   "outputs": [
    {
     "name": "stdout",
     "output_type": "stream",
     "text": [
      "unique event_type:  49 unique log_feature:  331 unique resource_type:  10 unique severity_type:  5 unique location:  929 unique fault_severity:  3\n"
     ]
    }
   ],
   "source": [
    "print \"unique event_type: \", df['event_type'].nunique(), \"unique log_feature: \", df['log_feature'].nunique(), \"unique resource_type: \", df['resource_type'].nunique(), \"unique severity_type: \", df['severity_type'].nunique(), \"unique location: \", df['location'].nunique(), \"unique fault_severity: \", df['fault_severity'].nunique()\n"
   ]
  },
  {
   "cell_type": "code",
   "execution_count": 5,
   "metadata": {
    "collapsed": false
   },
   "outputs": [
    {
     "data": {
      "text/html": [
       "<div>\n",
       "<table border=\"1\" class=\"dataframe\">\n",
       "  <thead>\n",
       "    <tr style=\"text-align: right;\">\n",
       "      <th></th>\n",
       "      <th>id</th>\n",
       "      <th>event_type</th>\n",
       "      <th>log_feature</th>\n",
       "      <th>volume</th>\n",
       "      <th>resource_type</th>\n",
       "      <th>severity_type</th>\n",
       "      <th>location</th>\n",
       "      <th>fault_severity</th>\n",
       "    </tr>\n",
       "  </thead>\n",
       "  <tbody>\n",
       "    <tr>\n",
       "      <th>0</th>\n",
       "      <td>8011</td>\n",
       "      <td>15</td>\n",
       "      <td>68</td>\n",
       "      <td>7</td>\n",
       "      <td>8</td>\n",
       "      <td>2</td>\n",
       "      <td>1</td>\n",
       "      <td>0</td>\n",
       "    </tr>\n",
       "    <tr>\n",
       "      <th>1</th>\n",
       "      <td>2588</td>\n",
       "      <td>15</td>\n",
       "      <td>82</td>\n",
       "      <td>9</td>\n",
       "      <td>8</td>\n",
       "      <td>1</td>\n",
       "      <td>1</td>\n",
       "      <td>0</td>\n",
       "    </tr>\n",
       "    <tr>\n",
       "      <th>2</th>\n",
       "      <td>2588</td>\n",
       "      <td>15</td>\n",
       "      <td>201</td>\n",
       "      <td>5</td>\n",
       "      <td>8</td>\n",
       "      <td>1</td>\n",
       "      <td>1</td>\n",
       "      <td>0</td>\n",
       "    </tr>\n",
       "    <tr>\n",
       "      <th>3</th>\n",
       "      <td>2588</td>\n",
       "      <td>15</td>\n",
       "      <td>80</td>\n",
       "      <td>15</td>\n",
       "      <td>8</td>\n",
       "      <td>1</td>\n",
       "      <td>1</td>\n",
       "      <td>0</td>\n",
       "    </tr>\n",
       "    <tr>\n",
       "      <th>4</th>\n",
       "      <td>2588</td>\n",
       "      <td>15</td>\n",
       "      <td>203</td>\n",
       "      <td>5</td>\n",
       "      <td>8</td>\n",
       "      <td>1</td>\n",
       "      <td>1</td>\n",
       "      <td>0</td>\n",
       "    </tr>\n",
       "  </tbody>\n",
       "</table>\n",
       "</div>"
      ],
      "text/plain": [
       "     id event_type log_feature  volume resource_type severity_type location  \\\n",
       "0  8011         15          68       7             8             2        1   \n",
       "1  2588         15          82       9             8             1        1   \n",
       "2  2588         15         201       5             8             1        1   \n",
       "3  2588         15          80      15             8             1        1   \n",
       "4  2588         15         203       5             8             1        1   \n",
       "\n",
       "   fault_severity  \n",
       "0               0  \n",
       "1               0  \n",
       "2               0  \n",
       "3               0  \n",
       "4               0  "
      ]
     },
     "execution_count": 5,
     "metadata": {},
     "output_type": "execute_result"
    }
   ],
   "source": [
    "# Clean the data by removing unnecessary text\n",
    "df['event_type'] = df['event_type'].map(lambda x: x.lstrip('event_type '))\n",
    "df['log_feature'] = df['log_feature'].map(lambda x: x.lstrip('feature '))\n",
    "df['resource_type'] = df['resource_type'].map(lambda x: x.lstrip('resource_type '))\n",
    "df['severity_type'] = df['severity_type'].map(lambda x: x.lstrip('severity_type '))\n",
    "df['location'] = df['location'].map(lambda x: x.lstrip('location '))\n",
    "\n",
    "df.head()"
   ]
  },
  {
   "cell_type": "code",
   "execution_count": 6,
   "metadata": {
    "collapsed": false
   },
   "outputs": [
    {
     "name": "stdout",
     "output_type": "stream",
     "text": [
      "       Intercept  C(event_type)[T.10]  C(event_type)[T.11]  \\\n",
      "0            1.0                  0.0                  0.0   \n",
      "1            1.0                  0.0                  0.0   \n",
      "2            1.0                  0.0                  0.0   \n",
      "3            1.0                  0.0                  0.0   \n",
      "4            1.0                  0.0                  0.0   \n",
      "5            1.0                  0.0                  1.0   \n",
      "6            1.0                  0.0                  1.0   \n",
      "7            1.0                  0.0                  1.0   \n",
      "8            1.0                  0.0                  1.0   \n",
      "9            1.0                  0.0                  1.0   \n",
      "10           1.0                  0.0                  1.0   \n",
      "11           1.0                  0.0                  1.0   \n",
      "12           1.0                  0.0                  1.0   \n",
      "13           1.0                  0.0                  1.0   \n",
      "14           1.0                  0.0                  0.0   \n",
      "15           1.0                  0.0                  0.0   \n",
      "16           1.0                  0.0                  0.0   \n",
      "17           1.0                  0.0                  0.0   \n",
      "18           1.0                  0.0                  0.0   \n",
      "19           1.0                  0.0                  1.0   \n",
      "20           1.0                  0.0                  0.0   \n",
      "21           1.0                  0.0                  0.0   \n",
      "22           1.0                  0.0                  0.0   \n",
      "23           1.0                  0.0                  0.0   \n",
      "24           1.0                  0.0                  0.0   \n",
      "25           1.0                  0.0                  1.0   \n",
      "26           1.0                  0.0                  1.0   \n",
      "27           1.0                  0.0                  1.0   \n",
      "28           1.0                  0.0                  1.0   \n",
      "29           1.0                  0.0                  1.0   \n",
      "...          ...                  ...                  ...   \n",
      "61809        1.0                  0.0                  1.0   \n",
      "61810        1.0                  0.0                  1.0   \n",
      "61811        1.0                  0.0                  1.0   \n",
      "61812        1.0                  0.0                  1.0   \n",
      "61813        1.0                  0.0                  1.0   \n",
      "61814        1.0                  0.0                  1.0   \n",
      "61815        1.0                  0.0                  1.0   \n",
      "61816        1.0                  0.0                  1.0   \n",
      "61817        1.0                  0.0                  1.0   \n",
      "61818        1.0                  0.0                  1.0   \n",
      "61819        1.0                  0.0                  1.0   \n",
      "61820        1.0                  0.0                  1.0   \n",
      "61821        1.0                  0.0                  1.0   \n",
      "61822        1.0                  0.0                  1.0   \n",
      "61823        1.0                  0.0                  1.0   \n",
      "61824        1.0                  0.0                  1.0   \n",
      "61825        1.0                  0.0                  1.0   \n",
      "61826        1.0                  0.0                  1.0   \n",
      "61827        1.0                  0.0                  1.0   \n",
      "61828        1.0                  0.0                  1.0   \n",
      "61829        1.0                  0.0                  1.0   \n",
      "61830        1.0                  0.0                  1.0   \n",
      "61831        1.0                  0.0                  1.0   \n",
      "61832        1.0                  0.0                  1.0   \n",
      "61833        1.0                  0.0                  1.0   \n",
      "61834        1.0                  0.0                  1.0   \n",
      "61835        1.0                  0.0                  1.0   \n",
      "61836        1.0                  0.0                  1.0   \n",
      "61837        1.0                  0.0                  1.0   \n",
      "61838        1.0                  0.0                  1.0   \n",
      "\n",
      "       C(event_type)[T.12]  C(event_type)[T.13]  C(event_type)[T.14]  \\\n",
      "0                      0.0                  0.0                  0.0   \n",
      "1                      0.0                  0.0                  0.0   \n",
      "2                      0.0                  0.0                  0.0   \n",
      "3                      0.0                  0.0                  0.0   \n",
      "4                      0.0                  0.0                  0.0   \n",
      "5                      0.0                  0.0                  0.0   \n",
      "6                      0.0                  0.0                  0.0   \n",
      "7                      0.0                  0.0                  0.0   \n",
      "8                      0.0                  0.0                  0.0   \n",
      "9                      0.0                  0.0                  0.0   \n",
      "10                     0.0                  0.0                  0.0   \n",
      "11                     0.0                  0.0                  0.0   \n",
      "12                     0.0                  0.0                  0.0   \n",
      "13                     0.0                  0.0                  0.0   \n",
      "14                     0.0                  0.0                  0.0   \n",
      "15                     0.0                  0.0                  0.0   \n",
      "16                     0.0                  0.0                  0.0   \n",
      "17                     0.0                  0.0                  0.0   \n",
      "18                     0.0                  0.0                  0.0   \n",
      "19                     0.0                  0.0                  0.0   \n",
      "20                     0.0                  0.0                  0.0   \n",
      "21                     0.0                  0.0                  0.0   \n",
      "22                     0.0                  0.0                  0.0   \n",
      "23                     0.0                  0.0                  0.0   \n",
      "24                     0.0                  0.0                  0.0   \n",
      "25                     0.0                  0.0                  0.0   \n",
      "26                     0.0                  0.0                  0.0   \n",
      "27                     0.0                  0.0                  0.0   \n",
      "28                     0.0                  0.0                  0.0   \n",
      "29                     0.0                  0.0                  0.0   \n",
      "...                    ...                  ...                  ...   \n",
      "61809                  0.0                  0.0                  0.0   \n",
      "61810                  0.0                  0.0                  0.0   \n",
      "61811                  0.0                  0.0                  0.0   \n",
      "61812                  0.0                  0.0                  0.0   \n",
      "61813                  0.0                  0.0                  0.0   \n",
      "61814                  0.0                  0.0                  0.0   \n",
      "61815                  0.0                  0.0                  0.0   \n",
      "61816                  0.0                  0.0                  0.0   \n",
      "61817                  0.0                  0.0                  0.0   \n",
      "61818                  0.0                  0.0                  0.0   \n",
      "61819                  0.0                  0.0                  0.0   \n",
      "61820                  0.0                  0.0                  0.0   \n",
      "61821                  0.0                  0.0                  0.0   \n",
      "61822                  0.0                  0.0                  0.0   \n",
      "61823                  0.0                  0.0                  0.0   \n",
      "61824                  0.0                  0.0                  0.0   \n",
      "61825                  0.0                  0.0                  0.0   \n",
      "61826                  0.0                  0.0                  0.0   \n",
      "61827                  0.0                  0.0                  0.0   \n",
      "61828                  0.0                  0.0                  0.0   \n",
      "61829                  0.0                  0.0                  0.0   \n",
      "61830                  0.0                  0.0                  0.0   \n",
      "61831                  0.0                  0.0                  0.0   \n",
      "61832                  0.0                  0.0                  0.0   \n",
      "61833                  0.0                  0.0                  0.0   \n",
      "61834                  0.0                  0.0                  0.0   \n",
      "61835                  0.0                  0.0                  0.0   \n",
      "61836                  0.0                  0.0                  0.0   \n",
      "61837                  0.0                  0.0                  0.0   \n",
      "61838                  0.0                  0.0                  0.0   \n",
      "\n",
      "       C(event_type)[T.15]  C(event_type)[T.18]  C(event_type)[T.19]  \\\n",
      "0                      1.0                  0.0                  0.0   \n",
      "1                      1.0                  0.0                  0.0   \n",
      "2                      1.0                  0.0                  0.0   \n",
      "3                      1.0                  0.0                  0.0   \n",
      "4                      1.0                  0.0                  0.0   \n",
      "5                      0.0                  0.0                  0.0   \n",
      "6                      0.0                  0.0                  0.0   \n",
      "7                      0.0                  0.0                  0.0   \n",
      "8                      0.0                  0.0                  0.0   \n",
      "9                      0.0                  0.0                  0.0   \n",
      "10                     0.0                  0.0                  0.0   \n",
      "11                     0.0                  0.0                  0.0   \n",
      "12                     0.0                  0.0                  0.0   \n",
      "13                     0.0                  0.0                  0.0   \n",
      "14                     1.0                  0.0                  0.0   \n",
      "15                     1.0                  0.0                  0.0   \n",
      "16                     1.0                  0.0                  0.0   \n",
      "17                     1.0                  0.0                  0.0   \n",
      "18                     1.0                  0.0                  0.0   \n",
      "19                     0.0                  0.0                  0.0   \n",
      "20                     1.0                  0.0                  0.0   \n",
      "21                     1.0                  0.0                  0.0   \n",
      "22                     1.0                  0.0                  0.0   \n",
      "23                     1.0                  0.0                  0.0   \n",
      "24                     1.0                  0.0                  0.0   \n",
      "25                     0.0                  0.0                  0.0   \n",
      "26                     0.0                  0.0                  0.0   \n",
      "27                     0.0                  0.0                  0.0   \n",
      "28                     0.0                  0.0                  0.0   \n",
      "29                     0.0                  0.0                  0.0   \n",
      "...                    ...                  ...                  ...   \n",
      "61809                  0.0                  0.0                  0.0   \n",
      "61810                  0.0                  0.0                  0.0   \n",
      "61811                  0.0                  0.0                  0.0   \n",
      "61812                  0.0                  0.0                  0.0   \n",
      "61813                  0.0                  0.0                  0.0   \n",
      "61814                  0.0                  0.0                  0.0   \n",
      "61815                  0.0                  0.0                  0.0   \n",
      "61816                  0.0                  0.0                  0.0   \n",
      "61817                  0.0                  0.0                  0.0   \n",
      "61818                  0.0                  0.0                  0.0   \n",
      "61819                  0.0                  0.0                  0.0   \n",
      "61820                  0.0                  0.0                  0.0   \n",
      "61821                  0.0                  0.0                  0.0   \n",
      "61822                  0.0                  0.0                  0.0   \n",
      "61823                  0.0                  0.0                  0.0   \n",
      "61824                  0.0                  0.0                  0.0   \n",
      "61825                  0.0                  0.0                  0.0   \n",
      "61826                  0.0                  0.0                  0.0   \n",
      "61827                  0.0                  0.0                  0.0   \n",
      "61828                  0.0                  0.0                  0.0   \n",
      "61829                  0.0                  0.0                  0.0   \n",
      "61830                  0.0                  0.0                  0.0   \n",
      "61831                  0.0                  0.0                  0.0   \n",
      "61832                  0.0                  0.0                  0.0   \n",
      "61833                  0.0                  0.0                  0.0   \n",
      "61834                  0.0                  0.0                  0.0   \n",
      "61835                  0.0                  0.0                  0.0   \n",
      "61836                  0.0                  0.0                  0.0   \n",
      "61837                  0.0                  0.0                  0.0   \n",
      "61838                  0.0                  0.0                  0.0   \n",
      "\n",
      "       C(event_type)[T.2]   ...    C(location)[T.989]  C(location)[T.99]  \\\n",
      "0                     0.0   ...                   0.0                0.0   \n",
      "1                     0.0   ...                   0.0                0.0   \n",
      "2                     0.0   ...                   0.0                0.0   \n",
      "3                     0.0   ...                   0.0                0.0   \n",
      "4                     0.0   ...                   0.0                0.0   \n",
      "5                     0.0   ...                   0.0                0.0   \n",
      "6                     0.0   ...                   0.0                0.0   \n",
      "7                     0.0   ...                   0.0                0.0   \n",
      "8                     0.0   ...                   0.0                0.0   \n",
      "9                     0.0   ...                   0.0                0.0   \n",
      "10                    0.0   ...                   0.0                0.0   \n",
      "11                    0.0   ...                   0.0                0.0   \n",
      "12                    0.0   ...                   0.0                0.0   \n",
      "13                    0.0   ...                   0.0                0.0   \n",
      "14                    0.0   ...                   0.0                0.0   \n",
      "15                    0.0   ...                   0.0                0.0   \n",
      "16                    0.0   ...                   0.0                0.0   \n",
      "17                    0.0   ...                   0.0                0.0   \n",
      "18                    0.0   ...                   0.0                0.0   \n",
      "19                    0.0   ...                   0.0                0.0   \n",
      "20                    0.0   ...                   0.0                0.0   \n",
      "21                    0.0   ...                   0.0                0.0   \n",
      "22                    0.0   ...                   0.0                0.0   \n",
      "23                    0.0   ...                   0.0                0.0   \n",
      "24                    0.0   ...                   0.0                0.0   \n",
      "25                    0.0   ...                   0.0                0.0   \n",
      "26                    0.0   ...                   0.0                0.0   \n",
      "27                    0.0   ...                   0.0                0.0   \n",
      "28                    0.0   ...                   0.0                0.0   \n",
      "29                    0.0   ...                   0.0                0.0   \n",
      "...                   ...   ...                   ...                ...   \n",
      "61809                 0.0   ...                   0.0                0.0   \n",
      "61810                 0.0   ...                   0.0                0.0   \n",
      "61811                 0.0   ...                   0.0                0.0   \n",
      "61812                 0.0   ...                   0.0                0.0   \n",
      "61813                 0.0   ...                   0.0                0.0   \n",
      "61814                 0.0   ...                   0.0                0.0   \n",
      "61815                 0.0   ...                   0.0                0.0   \n",
      "61816                 0.0   ...                   0.0                0.0   \n",
      "61817                 0.0   ...                   0.0                0.0   \n",
      "61818                 0.0   ...                   0.0                0.0   \n",
      "61819                 0.0   ...                   0.0                0.0   \n",
      "61820                 0.0   ...                   0.0                0.0   \n",
      "61821                 0.0   ...                   0.0                0.0   \n",
      "61822                 0.0   ...                   0.0                0.0   \n",
      "61823                 0.0   ...                   0.0                0.0   \n",
      "61824                 0.0   ...                   0.0                0.0   \n",
      "61825                 0.0   ...                   0.0                0.0   \n",
      "61826                 0.0   ...                   0.0                0.0   \n",
      "61827                 0.0   ...                   0.0                0.0   \n",
      "61828                 0.0   ...                   0.0                0.0   \n",
      "61829                 0.0   ...                   0.0                0.0   \n",
      "61830                 0.0   ...                   0.0                0.0   \n",
      "61831                 0.0   ...                   0.0                0.0   \n",
      "61832                 0.0   ...                   0.0                0.0   \n",
      "61833                 0.0   ...                   0.0                0.0   \n",
      "61834                 0.0   ...                   0.0                0.0   \n",
      "61835                 0.0   ...                   0.0                0.0   \n",
      "61836                 0.0   ...                   0.0                0.0   \n",
      "61837                 0.0   ...                   0.0                0.0   \n",
      "61838                 0.0   ...                   0.0                0.0   \n",
      "\n",
      "       C(location)[T.990]  C(location)[T.991]  C(location)[T.994]  \\\n",
      "0                     0.0                 0.0                 0.0   \n",
      "1                     0.0                 0.0                 0.0   \n",
      "2                     0.0                 0.0                 0.0   \n",
      "3                     0.0                 0.0                 0.0   \n",
      "4                     0.0                 0.0                 0.0   \n",
      "5                     0.0                 0.0                 0.0   \n",
      "6                     0.0                 0.0                 0.0   \n",
      "7                     0.0                 0.0                 0.0   \n",
      "8                     0.0                 0.0                 0.0   \n",
      "9                     0.0                 0.0                 0.0   \n",
      "10                    0.0                 0.0                 0.0   \n",
      "11                    0.0                 0.0                 0.0   \n",
      "12                    0.0                 0.0                 0.0   \n",
      "13                    0.0                 0.0                 0.0   \n",
      "14                    0.0                 0.0                 0.0   \n",
      "15                    0.0                 0.0                 0.0   \n",
      "16                    0.0                 0.0                 0.0   \n",
      "17                    0.0                 0.0                 0.0   \n",
      "18                    0.0                 0.0                 0.0   \n",
      "19                    0.0                 0.0                 0.0   \n",
      "20                    0.0                 0.0                 0.0   \n",
      "21                    0.0                 0.0                 0.0   \n",
      "22                    0.0                 0.0                 0.0   \n",
      "23                    0.0                 0.0                 0.0   \n",
      "24                    0.0                 0.0                 0.0   \n",
      "25                    0.0                 0.0                 0.0   \n",
      "26                    0.0                 0.0                 0.0   \n",
      "27                    0.0                 0.0                 0.0   \n",
      "28                    0.0                 0.0                 0.0   \n",
      "29                    0.0                 0.0                 0.0   \n",
      "...                   ...                 ...                 ...   \n",
      "61809                 0.0                 0.0                 0.0   \n",
      "61810                 0.0                 0.0                 0.0   \n",
      "61811                 0.0                 0.0                 0.0   \n",
      "61812                 0.0                 0.0                 0.0   \n",
      "61813                 0.0                 0.0                 0.0   \n",
      "61814                 0.0                 0.0                 0.0   \n",
      "61815                 0.0                 0.0                 0.0   \n",
      "61816                 0.0                 0.0                 0.0   \n",
      "61817                 0.0                 0.0                 0.0   \n",
      "61818                 0.0                 0.0                 0.0   \n",
      "61819                 0.0                 0.0                 0.0   \n",
      "61820                 0.0                 0.0                 0.0   \n",
      "61821                 0.0                 0.0                 0.0   \n",
      "61822                 0.0                 0.0                 0.0   \n",
      "61823                 0.0                 0.0                 0.0   \n",
      "61824                 0.0                 0.0                 0.0   \n",
      "61825                 0.0                 0.0                 0.0   \n",
      "61826                 0.0                 0.0                 0.0   \n",
      "61827                 0.0                 0.0                 0.0   \n",
      "61828                 0.0                 0.0                 0.0   \n",
      "61829                 0.0                 0.0                 0.0   \n",
      "61830                 0.0                 0.0                 0.0   \n",
      "61831                 0.0                 0.0                 0.0   \n",
      "61832                 0.0                 0.0                 0.0   \n",
      "61833                 0.0                 0.0                 0.0   \n",
      "61834                 0.0                 0.0                 0.0   \n",
      "61835                 0.0                 0.0                 0.0   \n",
      "61836                 0.0                 0.0                 0.0   \n",
      "61837                 0.0                 0.0                 0.0   \n",
      "61838                 0.0                 0.0                 0.0   \n",
      "\n",
      "       C(location)[T.995]  C(location)[T.996]  C(location)[T.998]  \\\n",
      "0                     0.0                 0.0                 0.0   \n",
      "1                     0.0                 0.0                 0.0   \n",
      "2                     0.0                 0.0                 0.0   \n",
      "3                     0.0                 0.0                 0.0   \n",
      "4                     0.0                 0.0                 0.0   \n",
      "5                     0.0                 0.0                 0.0   \n",
      "6                     0.0                 0.0                 0.0   \n",
      "7                     0.0                 0.0                 0.0   \n",
      "8                     0.0                 0.0                 0.0   \n",
      "9                     0.0                 0.0                 0.0   \n",
      "10                    0.0                 0.0                 0.0   \n",
      "11                    0.0                 0.0                 0.0   \n",
      "12                    0.0                 0.0                 0.0   \n",
      "13                    0.0                 0.0                 0.0   \n",
      "14                    0.0                 0.0                 0.0   \n",
      "15                    0.0                 0.0                 0.0   \n",
      "16                    0.0                 0.0                 0.0   \n",
      "17                    0.0                 0.0                 0.0   \n",
      "18                    0.0                 0.0                 0.0   \n",
      "19                    0.0                 0.0                 0.0   \n",
      "20                    0.0                 0.0                 0.0   \n",
      "21                    0.0                 0.0                 0.0   \n",
      "22                    0.0                 0.0                 0.0   \n",
      "23                    0.0                 0.0                 0.0   \n",
      "24                    0.0                 0.0                 0.0   \n",
      "25                    0.0                 0.0                 0.0   \n",
      "26                    0.0                 0.0                 0.0   \n",
      "27                    0.0                 0.0                 0.0   \n",
      "28                    0.0                 0.0                 0.0   \n",
      "29                    0.0                 0.0                 0.0   \n",
      "...                   ...                 ...                 ...   \n",
      "61809                 0.0                 0.0                 1.0   \n",
      "61810                 0.0                 0.0                 1.0   \n",
      "61811                 0.0                 0.0                 1.0   \n",
      "61812                 0.0                 0.0                 1.0   \n",
      "61813                 0.0                 0.0                 1.0   \n",
      "61814                 0.0                 0.0                 1.0   \n",
      "61815                 0.0                 0.0                 1.0   \n",
      "61816                 0.0                 0.0                 1.0   \n",
      "61817                 0.0                 0.0                 1.0   \n",
      "61818                 0.0                 0.0                 1.0   \n",
      "61819                 0.0                 0.0                 1.0   \n",
      "61820                 0.0                 0.0                 1.0   \n",
      "61821                 0.0                 0.0                 1.0   \n",
      "61822                 0.0                 0.0                 1.0   \n",
      "61823                 0.0                 0.0                 1.0   \n",
      "61824                 0.0                 0.0                 1.0   \n",
      "61825                 0.0                 0.0                 1.0   \n",
      "61826                 0.0                 0.0                 1.0   \n",
      "61827                 0.0                 0.0                 1.0   \n",
      "61828                 0.0                 0.0                 1.0   \n",
      "61829                 0.0                 0.0                 1.0   \n",
      "61830                 0.0                 0.0                 0.0   \n",
      "61831                 0.0                 0.0                 0.0   \n",
      "61832                 0.0                 0.0                 0.0   \n",
      "61833                 0.0                 0.0                 0.0   \n",
      "61834                 0.0                 0.0                 0.0   \n",
      "61835                 0.0                 0.0                 0.0   \n",
      "61836                 0.0                 0.0                 0.0   \n",
      "61837                 0.0                 0.0                 0.0   \n",
      "61838                 0.0                 0.0                 0.0   \n",
      "\n",
      "       C(location)[T.999]  volume  \n",
      "0                     0.0     7.0  \n",
      "1                     0.0     9.0  \n",
      "2                     0.0     5.0  \n",
      "3                     0.0    15.0  \n",
      "4                     0.0     5.0  \n",
      "5                     0.0     9.0  \n",
      "6                     0.0     5.0  \n",
      "7                     0.0    15.0  \n",
      "8                     0.0     5.0  \n",
      "9                     0.0     3.0  \n",
      "10                    0.0    16.0  \n",
      "11                    0.0     2.0  \n",
      "12                    0.0    12.0  \n",
      "13                    0.0     2.0  \n",
      "14                    0.0     3.0  \n",
      "15                    0.0    16.0  \n",
      "16                    0.0     2.0  \n",
      "17                    0.0    12.0  \n",
      "18                    0.0     2.0  \n",
      "19                    0.0    11.0  \n",
      "20                    0.0    11.0  \n",
      "21                    0.0     2.0  \n",
      "22                    0.0    11.0  \n",
      "23                    0.0     2.0  \n",
      "24                    0.0    10.0  \n",
      "25                    0.0     2.0  \n",
      "26                    0.0    11.0  \n",
      "27                    0.0     2.0  \n",
      "28                    0.0    10.0  \n",
      "29                    0.0     1.0  \n",
      "...                   ...     ...  \n",
      "61809                 0.0     2.0  \n",
      "61810                 0.0     3.0  \n",
      "61811                 0.0     1.0  \n",
      "61812                 0.0     1.0  \n",
      "61813                 0.0     2.0  \n",
      "61814                 0.0     3.0  \n",
      "61815                 0.0     1.0  \n",
      "61816                 0.0     2.0  \n",
      "61817                 0.0     1.0  \n",
      "61818                 0.0     1.0  \n",
      "61819                 0.0     1.0  \n",
      "61820                 0.0     1.0  \n",
      "61821                 0.0     1.0  \n",
      "61822                 0.0     2.0  \n",
      "61823                 0.0     5.0  \n",
      "61824                 0.0     5.0  \n",
      "61825                 0.0     1.0  \n",
      "61826                 0.0     1.0  \n",
      "61827                 0.0     2.0  \n",
      "61828                 0.0     2.0  \n",
      "61829                 0.0     1.0  \n",
      "61830                 1.0     2.0  \n",
      "61831                 1.0     1.0  \n",
      "61832                 1.0     2.0  \n",
      "61833                 1.0     1.0  \n",
      "61834                 1.0     1.0  \n",
      "61835                 1.0     3.0  \n",
      "61836                 1.0     1.0  \n",
      "61837                 1.0     1.0  \n",
      "61838                 1.0     2.0  \n",
      "\n",
      "[61839 rows x 1321 columns]\n"
     ]
    }
   ],
   "source": [
    "# Create the dummy variables using dmatrices\n",
    "y, X = dmatrices('fault_severity ~ C(event_type) + C(log_feature) + C(resource_type) + C(severity_type) + C(location) + volume', df, return_type = 'dataframe')\n",
    "print X"
   ]
  },
  {
   "cell_type": "markdown",
   "metadata": {},
   "source": [
    "## Modeling"
   ]
  },
  {
   "cell_type": "code",
   "execution_count": 7,
   "metadata": {
    "collapsed": true
   },
   "outputs": [],
   "source": [
    "# Split the data into 70% Training Data and 30% Testing Data with seed(0)\n",
    "from sklearn.cross_validation import train_test_split\n",
    "X_train, X_test, y_train, y_test = train_test_split(X, y, train_size = 0.7, random_state = 0)"
   ]
  },
  {
   "cell_type": "code",
   "execution_count": 8,
   "metadata": {
    "collapsed": false
   },
   "outputs": [
    {
     "name": "stderr",
     "output_type": "stream",
     "text": [
      "C:\\Users\\Dennis\\Anaconda2\\lib\\site-packages\\sklearn\\utils\\validation.py:515: DataConversionWarning: A column-vector y was passed when a 1d array was expected. Please change the shape of y to (n_samples, ), for example using ravel().\n",
      "  y = column_or_1d(y, warn=True)\n"
     ]
    },
    {
     "name": "stdout",
     "output_type": "stream",
     "text": [
      "0.771021992238\n"
     ]
    }
   ],
   "source": [
    "# Logistic Regression\n",
    "lr = LogisticRegression(fit_intercept = False, C = 1e9)\n",
    "logmodel = lr.fit(X_train, y_train)\n",
    "\n",
    "lr.coef_\n",
    "\n",
    "y_predlog = logmodel.predict(X_test)\n",
    "\n",
    "acclog = accuracy_score(y_predlog, y_test)\n",
    "\n",
    "print acclog"
   ]
  },
  {
   "cell_type": "code",
   "execution_count": 9,
   "metadata": {
    "collapsed": false
   },
   "outputs": [
    {
     "name": "stderr",
     "output_type": "stream",
     "text": [
      "C:\\Users\\Dennis\\Anaconda2\\lib\\site-packages\\sklearn\\utils\\validation.py:515: DataConversionWarning: A column-vector y was passed when a 1d array was expected. Please change the shape of y to (n_samples, ), for example using ravel().\n",
      "  y = column_or_1d(y, warn=True)\n"
     ]
    },
    {
     "name": "stdout",
     "output_type": "stream",
     "text": [
      "0.598318240621\n"
     ]
    }
   ],
   "source": [
    "# Gaussian Naive Bayes\n",
    "nb = GaussianNB()\n",
    "gnbmodel = nb.fit(X_train, y_train)\n",
    "\n",
    "y_predgnb = gnbmodel.predict(X_test)\n",
    "\n",
    "accgnb = accuracy_score(y_predgnb, y_test)\n",
    "\n",
    "print accgnb"
   ]
  },
  {
   "cell_type": "code",
   "execution_count": 10,
   "metadata": {
    "collapsed": false
   },
   "outputs": [
    {
     "name": "stderr",
     "output_type": "stream",
     "text": [
      "C:\\Users\\Dennis\\Anaconda2\\lib\\site-packages\\sklearn\\utils\\validation.py:515: DataConversionWarning: A column-vector y was passed when a 1d array was expected. Please change the shape of y to (n_samples, ), for example using ravel().\n",
      "  y = column_or_1d(y, warn=True)\n"
     ]
    },
    {
     "name": "stdout",
     "output_type": "stream",
     "text": [
      "0.755713669685\n"
     ]
    }
   ],
   "source": [
    "# AdaBoosted Decision Trees\n",
    "adt = AdaBoostClassifier(DecisionTreeClassifier(max_depth=2), n_estimators=600, learning_rate=.1)\n",
    "adtmodel = adt.fit(X_train, y_train)\n",
    "\n",
    "y_predadt = adtmodel.predict(X_test)\n",
    "\n",
    "accadt = accuracy_score(y_predadt, y_test)\n",
    "\n",
    "print accadt"
   ]
  },
  {
   "cell_type": "code",
   "execution_count": 11,
   "metadata": {
    "collapsed": false
   },
   "outputs": [
    {
     "name": "stderr",
     "output_type": "stream",
     "text": [
      "C:\\Users\\Dennis\\Anaconda2\\lib\\site-packages\\ipykernel\\__main__.py:3: DataConversionWarning: A column-vector y was passed when a 1d array was expected. Please change the shape of y to (n_samples,), for example using ravel().\n",
      "  app.launch_new_instance()\n"
     ]
    },
    {
     "name": "stdout",
     "output_type": "stream",
     "text": [
      "0.625215610177\n"
     ]
    }
   ],
   "source": [
    "# Random Forest\n",
    "rf = RandomForestClassifier(max_depth=10)\n",
    "rfmodel = rf.fit(X_train, y_train)\n",
    "\n",
    "y_predrf = rfmodel.predict(X_test)\n",
    "\n",
    "accrf = accuracy_score(y_predrf, y_test)\n",
    "\n",
    "print accrf"
   ]
  },
  {
   "cell_type": "code",
   "execution_count": 12,
   "metadata": {
    "collapsed": false
   },
   "outputs": [
    {
     "name": "stderr",
     "output_type": "stream",
     "text": [
      "C:\\Users\\Dennis\\Anaconda2\\lib\\site-packages\\sklearn\\utils\\validation.py:515: DataConversionWarning: A column-vector y was passed when a 1d array was expected. Please change the shape of y to (n_samples, ), for example using ravel().\n",
      "  y = column_or_1d(y, warn=True)\n"
     ]
    },
    {
     "name": "stdout",
     "output_type": "stream",
     "text": [
      "0.721108236309\n"
     ]
    }
   ],
   "source": [
    "# Gradient Boosting\n",
    "params = {'n_estimators': 600, 'max_depth': 1,\n",
    "          'learning_rate': 0.1, 'min_samples_leaf': 1, 'random_state': 3}\n",
    "gbc = GradientBoostingClassifier(**params)\n",
    "gbcmodel = gbc.fit(X_train, y_train)\n",
    "\n",
    "y_predgbc = gbcmodel.predict(X_test)\n",
    "\n",
    "accgbc = accuracy_score(y_predgbc, y_test)\n",
    "\n",
    "print accgbc"
   ]
  },
  {
   "cell_type": "code",
   "execution_count": 13,
   "metadata": {
    "collapsed": false
   },
   "outputs": [
    {
     "name": "stdout",
     "output_type": "stream",
     "text": [
      "[ 0.  2.  2. ...,  1.  1.  0.]\n"
     ]
    }
   ],
   "source": [
    "print y_predlog"
   ]
  },
  {
   "cell_type": "code",
   "execution_count": 14,
   "metadata": {
    "collapsed": false
   },
   "outputs": [
    {
     "name": "stdout",
     "output_type": "stream",
     "text": [
      "[[  1.56825711e+00  -2.33336361e+00  -2.29406750e+00 ...,   3.78724888e-01\n",
      "    1.85484889e+00   2.30763479e-03]\n",
      " [ -3.26152900e+00   2.75201908e+00   2.15788768e+00 ...,   7.31104614e-01\n",
      "   -3.20104327e-01  -2.64016852e-02]\n",
      " [ -3.16436972e+00   1.83568572e+00   2.34105594e+00 ...,  -1.08129577e+00\n",
      "   -6.39788699e+00   1.47470441e-02]]\n"
     ]
    }
   ],
   "source": [
    "print coef"
   ]
  },
  {
   "cell_type": "code",
   "execution_count": 15,
   "metadata": {
    "collapsed": false
   },
   "outputs": [
    {
     "name": "stdout",
     "output_type": "stream",
     "text": [
      "0.606535130199 0.86919391364 0.603952412531 0.868418387589 0.677281810728\n"
     ]
    }
   ],
   "source": [
    "RMSElog = mean_squared_error(y_test, y_predlog)**0.5\n",
    "RMSEgnb = mean_squared_error(y_test, y_predgnb)**0.5\n",
    "RMSEadt = mean_squared_error(y_test, y_predadt)**0.5\n",
    "RMSErf = mean_squared_error(y_test, y_predrf)**0.5\n",
    "RMSEgbc = mean_squared_error(y_test, y_predgbc)**0.5\n",
    "\n",
    "\n",
    "print RMSElog, RMSEgnb, RMSEadt, RMSErf, RMSEgbc"
   ]
  },
  {
   "cell_type": "code",
   "execution_count": null,
   "metadata": {
    "collapsed": true
   },
   "outputs": [],
   "source": []
  }
 ],
 "metadata": {
  "anaconda-cloud": {},
  "kernelspec": {
   "display_name": "Python 2",
   "language": "python",
   "name": "python2"
  },
  "language_info": {
   "codemirror_mode": {
    "name": "ipython",
    "version": 2
   },
   "file_extension": ".py",
   "mimetype": "text/x-python",
   "name": "python",
   "nbconvert_exporter": "python",
   "pygments_lexer": "ipython2",
   "version": "2.7.12"
  }
 },
 "nbformat": 4,
 "nbformat_minor": 0
}
